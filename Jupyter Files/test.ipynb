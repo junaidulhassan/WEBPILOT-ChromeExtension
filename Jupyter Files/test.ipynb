{
 "cells": [
  {
   "cell_type": "code",
   "execution_count": 17,
   "metadata": {},
   "outputs": [],
   "source": [
    "import pandas as pd\n",
    "import numpy as np\n",
    "from langchain.document_loaders import PyPDFLoader"
   ]
  },
  {
   "cell_type": "code",
   "execution_count": 18,
   "metadata": {},
   "outputs": [
    {
     "name": "stdout",
     "output_type": "stream",
     "text": [
      "Valid file path: /home/junaid-ul-hassan/Downloads/Proof Of Earnings.pdf\n"
     ]
    }
   ],
   "source": [
    "from urllib.parse import urlparse, unquote\n",
    "\n",
    "# Original file URL\n",
    "file_url = \"file:///home/junaid-ul-hassan/Downloads/Proof%20Of%20Earnings.pdf\"\n",
    "\n",
    "# Parse the URL and convert to a valid file path\n",
    "parsed_url = urlparse(file_url)\n",
    "\n",
    "# Extract the path and decode it to remove '%20'\n",
    "file_path = unquote(parsed_url.path)\n",
    "\n",
    "print(\"Valid file path:\", file_path)\n"
   ]
  },
  {
   "cell_type": "code",
   "execution_count": 19,
   "metadata": {},
   "outputs": [
    {
     "data": {
      "text/plain": [
       "'/home/junaid-ul-hassan/Downloads/Proof Of Earnings.pdf'"
      ]
     },
     "execution_count": 19,
     "metadata": {},
     "output_type": "execute_result"
    }
   ],
   "source": [
    "file_path"
   ]
  },
  {
   "cell_type": "code",
   "execution_count": 13,
   "metadata": {},
   "outputs": [],
   "source": [
    "loader = PyPDFLoader(file_path=file_path)"
   ]
  },
  {
   "cell_type": "code",
   "execution_count": 5,
   "metadata": {},
   "outputs": [
    {
     "data": {
      "text/plain": [
       "[Document(metadata={'source': '/home/junaid-ul-hassan/Documents/Updated_CV_ML.pdf', 'page': 0}, page_content='Experience\\nEducation\\nPersonal ProjectsTechnical Stack\\nJunaid Ul Hassan\\nMachine Learning Engineer\\nA dedicated and aspiring Machine Learning Engineer and Software Developer looking for opportunities in an\\norganization that supports both technical and personal growth.03205832058 junaidulhassan029@gmail.com H-9, Islamabad\\nFreelance Data Scientist and Machine Engineer\\nFinished Machine Learning and Data Science projects with happy clients.\\nVisualize the data insights using statistical analysis and Streamlit\\nPredict future trends and outcomes.\\nFinished LLMs projects using Langchain framework.2023 - Present\\nChat with any Large Web Contents (Ongoing)\\nChat with any website, YouTube video, or PDF docs with the URL you paste.\\nUses Langchain and Retrieval-Augmented Generation (RAG) techniques for chat.\\nUsing Mistral-7B-Instruct LLM in Project for Text Generation.\\nHelps users ask Questions answer, summarize, and analyze web content using LLM-based Chatbot.\\nSaves 30% of the time reading or scrolling websites.2024 - Present\\nInfluenza Symptom Prediction Analysis using RapidMiner\\nDevelop and evaluate Linear Regression models for predicting flu cases.\\nUse a comprehensive dataset and Data Preprocessing for analysis.\\nExplore additional regression methods for comparison.\\nEnhance early detection and management of influenza symptoms.Jan- 2023 - Feb 2023\\nSingle-Object-Detection-Using-CUB-200-2011\\nDevelop a unique CNN with Linear Regression for object detection.\\nUse the CUB-200-2011 dataset for accuracy.\\nUse Tensorflow & keras for object detection, avoiding pre-trained models like YOLO or Fast-RCNN.\\nSeparate classification and localization for robust, efficient performance.www.linkedin.com/in/junaid-ull-hassan\\nNUML, Islamabad\\nBachelor of Software Engineering\\nGPA: 3.342021-2025https://github.com/junaidulhassan\\nMachine Learning / Data Science/Deep Learning\\nPython, Visualization, Supervised and unsupervised algos, LLMs, ANN, CNN, RNN, LSTM & GRU, DCGAN,\\nETL, Feature Engineering, Data preprocessing, Statistical Analysis etc.\\nPython Packages and Frameworks\\nScikit-Learn, Tensorflow,Power Bi, keras, OpenCv, Langchain, Matplotlib & Seaborn, Scipy, Beautiful Soap\\nWeb and App Development\\nHtml, CSS, Flask, Android Dev, React.js, Node.js\\nDatabases & Clouds\\nMySQL, Mongodb, Oracle, Chromadb & Pinecone (Vector Database),Amazon SageMaker and Google Cloud\\nMathematics for Machine Learning/Deep Learning\\nLinear Algebra, Statistics, Calculus, Probability, Integration & Derivation\\nMar- 2023 - Apr 2023')]"
      ]
     },
     "execution_count": 5,
     "metadata": {},
     "output_type": "execute_result"
    }
   ],
   "source": [
    "loader.load()"
   ]
  },
  {
   "cell_type": "code",
   "execution_count": null,
   "metadata": {},
   "outputs": [],
   "source": []
  }
 ],
 "metadata": {
  "kernelspec": {
   "display_name": "base",
   "language": "python",
   "name": "python3"
  },
  "language_info": {
   "codemirror_mode": {
    "name": "ipython",
    "version": 3
   },
   "file_extension": ".py",
   "mimetype": "text/x-python",
   "name": "python",
   "nbconvert_exporter": "python",
   "pygments_lexer": "ipython3",
   "version": "3.11.7"
  }
 },
 "nbformat": 4,
 "nbformat_minor": 2
}
